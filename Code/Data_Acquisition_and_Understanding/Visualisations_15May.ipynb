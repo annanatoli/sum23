{
 "cells": [
  {
   "cell_type": "markdown",
   "id": "9f47eb05-843e-4977-b26a-cfaf7fe1ff89",
   "metadata": {
    "tags": []
   },
   "source": [
    "# Financial statement as waterfall chart"
   ]
  },
  {
   "cell_type": "code",
   "execution_count": 1,
   "id": "d9b6d6e0-0f5f-4153-8afe-7170371793bf",
   "metadata": {},
   "outputs": [
    {
     "data": {
      "application/vnd.jupyter.widget-view+json": {
       "model_id": "738024f24c75458d87956f42cec769a7",
       "version_major": 2,
       "version_minor": 0
      },
      "text/plain": [
       "VBox(children=(Text(value='', continuous_update=False, description='RIC', style=DescriptionStyle(description_w…"
      ]
     },
     "metadata": {},
     "output_type": "display_data"
    }
   ],
   "source": [
    "import refinitiv.dataplatform.legacy as ek\n",
    "import pandas as pd\n",
    "import plotly.graph_objects as go\n",
    "import warnings\n",
    "import ipywidgets as widgets\n",
    "import ipysheet\n",
    "warnings.filterwarnings('ignore')\n",
    "\n",
    "ek.set_app_key('DEFAULT_CODE_BOOK_APP_KEY')\n",
    "\n",
    "df = pd.DataFrame()\n",
    "name = ''\n",
    "datatable = None\n",
    "\n",
    "ric = 'LSEG.L'\n",
    "\n",
    "fields = ['CF_NAME',\n",
    "          'TR.F.TotRevBizActiv', \n",
    "          'TR.F.ProvImpairForLoanLosses',\n",
    "          'TR.F.CostOfOpRev', \n",
    "          'TR.F.SGATot', \n",
    "          'TR.F.OthOpExpnIncNet', \n",
    "          'TR.F.OpProfBefNonRecurIncExpn',\n",
    "          'TR.F.FinIncExpnNetTot',\n",
    "          'TR.F.SaleOfTangIntangFixedAssetsGL',\n",
    "          'TR.F.EqEarnLossBefTaxInclNonRecur',\n",
    "          'TR.F.OthNonOpIncExpnTot',\n",
    "          'TR.F.NonRecurIncExpnTot',\n",
    "          'TR.F.IncBefTax',\n",
    "          'TR.F.IncTax',\n",
    "          'TR.F.EqInEarnLossOfAffilAfterTax',\n",
    "          'TR.F.AfterTaxAdjOthTot',\n",
    "          'TR.F.ExordActivAfterTaxGL',\n",
    "          'TR.F.MinIntr',\n",
    "          'TR.F.IntrExpnHybridDebtInstrEq',\n",
    "          'TR.F.DistribForPrefShr',\n",
    "          'TR.F.EarnAdjToNetIncOthExpnInc',\n",
    "          'TR.F.IncAvailToComShr'\n",
    "         ]\n",
    "\n",
    "multipliers = [1, -1, -1, -1, -1, 1, 1, 1, 1, 1, 1, 1, -1, 1, 1, 1, -1, -1, -1, -1, 1]\n",
    "\n",
    "measure=['absolute',\n",
    "         'relative',\n",
    "         'relative', \n",
    "         'relative', \n",
    "         'relative', \n",
    "         'absolute', \n",
    "         'relative', \n",
    "         'relative', \n",
    "         'relative',\n",
    "         'relative',\n",
    "         'relative',\n",
    "         'absolute',\n",
    "         'relative',\n",
    "         'relative',\n",
    "         'relative',\n",
    "         'relative',\n",
    "         'relative',\n",
    "         'relative',\n",
    "         'relative',\n",
    "         'relative',\n",
    "         'absolute'\n",
    "        ]\n",
    "\n",
    "category=['Revenue',\n",
    "          'Operating Expenses',\n",
    "          'Operating Expenses',\n",
    "          'Operating Expenses',\n",
    "          'Operating Expenses',\n",
    "          'Operating Profit',\n",
    "          'Non-operating Expenses',\n",
    "          'Non-operating Expenses',\n",
    "          'Non-operating Expenses',\n",
    "          'Non-operating Expenses',\n",
    "          'Non-recurring Income/Expense',\n",
    "          'Pre-tax Income',\n",
    "          'Taxes',\n",
    "          'After Tax Income/Expense',\n",
    "          'After Tax Income/Expense',\n",
    "          'After Tax Income/Expense',\n",
    "          'After Tax Income/Expense',\n",
    "          'Net Income',\n",
    "          'Net Income',\n",
    "          'Net Income',\n",
    "          'Net Income'\n",
    "         ]\n",
    "\n",
    "def get_data(ric, fields):\n",
    "    global df, name\n",
    "    if ric != '':\n",
    "        _df, err = ek.get_data(ric, fields)\n",
    "        name = _df['CF_NAME'][0]\n",
    "        _df = _df.drop(columns='Instrument')\n",
    "        _df = _df.drop(columns='CF_NAME')\n",
    "        df2 = pd.DataFrame(multipliers, columns=[1]).T\n",
    "        df3 = pd.DataFrame(measure, columns=[2]).T\n",
    "        df2.columns=_df.columns\n",
    "        df3.columns=_df.columns\n",
    "        _df = _df.append([df2, df3])\n",
    "        _df = _df.dropna(axis=1)\n",
    "        df = _df\n",
    "    return\n",
    "\n",
    "def update_plot(fig):\n",
    "    fig.data = []\n",
    "    trace = go.Waterfall(\n",
    "        x=df.columns.tolist(),\n",
    "        y=df.iloc[0]*df.iloc[1].tolist(),\n",
    "        measure=df.iloc[2],\n",
    "        increasing=dict(marker=dict(color='#3AC46D')),\n",
    "        decreasing=dict(marker=dict(color='#F6465C')),\n",
    "        totals=dict(marker=dict(color='#6978F7')),\n",
    "        name=name\n",
    "    )\n",
    "    fig.update_layout(title=dict(text=name))\n",
    "    fig.add_trace(trace)\n",
    "    return\n",
    "\n",
    "def update_table():\n",
    "    global sheet, tab\n",
    "    _df_to_table = pd.DataFrame()\n",
    "    _df_to_table['Item'] = df.columns.tolist()\n",
    "    _df_to_table['Latest'] = df.iloc[0].values.tolist()\n",
    "    table = ipysheet.from_dataframe(_df_to_table)\n",
    "    table.row_headers=False\n",
    "    sheet = table\n",
    "    tab.children = [wfig, sheet]\n",
    "    return\n",
    "\n",
    "def update_ric(value):\n",
    "    global ric_input, ric\n",
    "    value = value['new']\n",
    "    if value != '':\n",
    "        ric = value\n",
    "        get_data(ric, fields)\n",
    "        update_plot(wfig)\n",
    "        update_table()\n",
    "        ric_input.value = ''\n",
    "    return\n",
    "\n",
    "wfig = go.FigureWidget()\n",
    "\n",
    "get_data(ric, fields)\n",
    "\n",
    "trace = go.Waterfall(\n",
    "    x=df.columns.tolist(),\n",
    "    y=df.iloc[0]*df.iloc[1].tolist(),\n",
    "    measure=df.iloc[2],\n",
    "    increasing=dict(marker=dict(color='#3AC46D')),\n",
    "    decreasing=dict(marker=dict(color='#F6465C')),\n",
    "    totals=dict(marker=dict(color='#6978F7')),\n",
    "    name = name\n",
    ")\n",
    "\n",
    "wfig.update_layout(\n",
    "    margin=dict(t=5, b=5, l=5, r=5),\n",
    "    plot_bgcolor='#1A1A1D',\n",
    "    paper_bgcolor='#1A1A1D',\n",
    "    yaxis=dict(gridcolor='black', gridwidth=1, zerolinecolor='black', zerolinewidth=1, side='right', color='#D6D6D5', linecolor='#D6D6D5', ticks='outside'),\n",
    "    xaxis=dict(gridcolor='black', gridwidth=1, zerolinecolor='black', zerolinewidth=1, color='#D6D6D5', linecolor='#D6D6D5', ticks='outside'),\n",
    "    colorway=['#6978F7', '#A325E9', '#96E05D', '#4A7FB9', '#E75A2D', '#FBE55A', '#8C8C8D', '#5A54F6'],\n",
    "    legend=dict(font=dict(color='#D6D6D5'), orientation='h', yanchor='top', xanchor='center', y=1.05, x=0.1),\n",
    "    title = dict(text=name, xanchor='center', yanchor='top', x=0.5, font=dict(color='#D6D6D5'))\n",
    ")\n",
    "\n",
    "wfig.add_trace(trace)\n",
    "\n",
    "_df_to_table = pd.DataFrame()\n",
    "_df_to_table['Item'] = df.columns.tolist()\n",
    "_df_to_table['Latest'] = df.iloc[0].values.tolist()\n",
    "sheet = ipysheet.from_dataframe(_df_to_table)\n",
    "sheet.row_headers=False\n",
    "\n",
    "tab = widgets.Tab()\n",
    "tab.children = [wfig, sheet]\n",
    "tab.set_title(0, 'Chart')\n",
    "tab.set_title(1, 'Table')\n",
    "\n",
    "ric_input = widgets.Text(description='RIC', continuous_update=False, style={'description_width':'30px'})\n",
    "ric_input.observe(update_ric, names='value')\n",
    "widgets.VBox([ric_input, tab])"
   ]
  },
  {
   "cell_type": "markdown",
   "id": "e91c7c7f-1c8d-42a6-83aa-e085746c63d7",
   "metadata": {},
   "source": [
    "# Analyst consensus "
   ]
  },
  {
   "cell_type": "code",
   "execution_count": 13,
   "id": "a7d43d0b-dd32-430d-bac9-d568db00274b",
   "metadata": {},
   "outputs": [],
   "source": [
    "import refinitiv.dataplatform.eikon as ek\n",
    "import numpy as np\n",
    "import pandas as pd\n",
    "import ipywidgets as widgets\n",
    "from ipywidgets import Box\n",
    "import matplotlib as plt\n",
    "import warnings\n",
    "%matplotlib inline\n",
    "plt.style.use(\"seaborn\")\n",
    "warnings.filterwarnings(\"ignore\")\n",
    "ek.set_app_key('DEFAULT_CODE_BOOK_APP_KEY') "
   ]
  },
  {
   "cell_type": "code",
   "execution_count": 17,
   "id": "4e59b8a1-3651-47b7-b97d-ac858aba2a72",
   "metadata": {},
   "outputs": [
    {
     "data": {
      "application/vnd.jupyter.widget-view+json": {
       "model_id": "e62f630fa400431c9f35fa7a33464ea1",
       "version_major": 2,
       "version_minor": 0
      },
      "text/plain": [
       "Box(children=(Text(value='', description='RIC:', placeholder='Type something'),))"
      ]
     },
     "metadata": {},
     "output_type": "display_data"
    }
   ],
   "source": [
    "ric = widgets.Text(\n",
    "    value='',\n",
    "    placeholder='Type something',\n",
    "    description='RIC:',\n",
    "    disabled=False\n",
    ")\n",
    "\n",
    "items = [ric]\n",
    "box = Box(children=items)\n",
    "\n",
    "box"
   ]
  },
  {
   "cell_type": "code",
   "execution_count": 20,
   "id": "8fb0dd93-1d33-4e41-91fe-198297823c2b",
   "metadata": {},
   "outputs": [
    {
     "data": {
      "text/html": [
       "<div>\n",
       "<style scoped>\n",
       "    .dataframe tbody tr th:only-of-type {\n",
       "        vertical-align: middle;\n",
       "    }\n",
       "\n",
       "    .dataframe tbody tr th {\n",
       "        vertical-align: top;\n",
       "    }\n",
       "\n",
       "    .dataframe thead th {\n",
       "        text-align: right;\n",
       "    }\n",
       "</style>\n",
       "<table border=\"1\" class=\"dataframe\">\n",
       "  <thead>\n",
       "    <tr style=\"text-align: right;\">\n",
       "      <th></th>\n",
       "      <th>0</th>\n",
       "    </tr>\n",
       "  </thead>\n",
       "  <tbody>\n",
       "    <tr>\n",
       "      <th>Instrument</th>\n",
       "      <td>LSEG.L</td>\n",
       "    </tr>\n",
       "    <tr>\n",
       "      <th>Country of Headquarters</th>\n",
       "      <td>United Kingdom</td>\n",
       "    </tr>\n",
       "    <tr>\n",
       "      <th>Exchange Name</th>\n",
       "      <td>LONDON STOCK EXCHANGE</td>\n",
       "    </tr>\n",
       "    <tr>\n",
       "      <th>TRBC Industry Group Name</th>\n",
       "      <td>Investment Banking &amp; Investment Services</td>\n",
       "    </tr>\n",
       "    <tr>\n",
       "      <th>GICS Sector Name</th>\n",
       "      <td>Financials</td>\n",
       "    </tr>\n",
       "    <tr>\n",
       "      <th>Ticker Symbol</th>\n",
       "      <td>LSEG</td>\n",
       "    </tr>\n",
       "  </tbody>\n",
       "</table>\n",
       "</div>"
      ],
      "text/plain": [
       "                                                                 0\n",
       "Instrument                                                  LSEG.L\n",
       "Country of Headquarters                             United Kingdom\n",
       "Exchange Name                                LONDON STOCK EXCHANGE\n",
       "TRBC Industry Group Name  Investment Banking & Investment Services\n",
       "GICS Sector Name                                        Financials\n",
       "Ticker Symbol                                                 LSEG"
      ]
     },
     "execution_count": 20,
     "metadata": {},
     "output_type": "execute_result"
    }
   ],
   "source": [
    "df,err = ek.get_data(ric.value,[\"TR.HeadquartersCountry\",\"TR.ExchangeName\",\"TR.TRBCIndustryGroup\",\"TR.GICSSector\",\"TR.TickerSymbol\"])\n",
    "df.transpose()"
   ]
  },
  {
   "cell_type": "code",
   "execution_count": 21,
   "id": "43a407cc-bec2-45c9-a3be-0131d9b70bbf",
   "metadata": {},
   "outputs": [
    {
     "data": {
      "text/html": [
       "<div>\n",
       "<style scoped>\n",
       "    .dataframe tbody tr th:only-of-type {\n",
       "        vertical-align: middle;\n",
       "    }\n",
       "\n",
       "    .dataframe tbody tr th {\n",
       "        vertical-align: top;\n",
       "    }\n",
       "\n",
       "    .dataframe thead th {\n",
       "        text-align: right;\n",
       "    }\n",
       "</style>\n",
       "<table border=\"1\" class=\"dataframe\">\n",
       "  <thead>\n",
       "    <tr style=\"text-align: right;\">\n",
       "      <th></th>\n",
       "      <th>0</th>\n",
       "    </tr>\n",
       "  </thead>\n",
       "  <tbody>\n",
       "    <tr>\n",
       "      <th>Instrument</th>\n",
       "      <td>LSEG.L</td>\n",
       "    </tr>\n",
       "    <tr>\n",
       "      <th>CF_CURR</th>\n",
       "      <td>GBp</td>\n",
       "    </tr>\n",
       "    <tr>\n",
       "      <th>Price Close</th>\n",
       "      <td>8456</td>\n",
       "    </tr>\n",
       "    <tr>\n",
       "      <th>Price 52 Week High</th>\n",
       "      <td>8612</td>\n",
       "    </tr>\n",
       "    <tr>\n",
       "      <th>Price 52 Week Low</th>\n",
       "      <td>6710</td>\n",
       "    </tr>\n",
       "    <tr>\n",
       "      <th>Price Target - Median</th>\n",
       "      <td>9800</td>\n",
       "    </tr>\n",
       "    <tr>\n",
       "      <th>Interim Frequency</th>\n",
       "      <td>Semi-Annual</td>\n",
       "    </tr>\n",
       "  </tbody>\n",
       "</table>\n",
       "</div>"
      ],
      "text/plain": [
       "                                 0\n",
       "Instrument                  LSEG.L\n",
       "CF_CURR                        GBp\n",
       "Price Close                   8456\n",
       "Price 52 Week High            8612\n",
       "Price 52 Week Low             6710\n",
       "Price Target - Median         9800\n",
       "Interim Frequency      Semi-Annual"
      ]
     },
     "execution_count": 21,
     "metadata": {},
     "output_type": "execute_result"
    }
   ],
   "source": [
    "df1,err = ek.get_data(ric.value,[\"CF_CURR\",\"TR.PriceClose\",\"TR.Price52WeekHigh\",\"TR.Price52WeekLow\",\"TR.PriceTargetMedian\",\"TR.InterimFrequency\"])\n",
    "df1.transpose()"
   ]
  },
  {
   "cell_type": "code",
   "execution_count": 22,
   "id": "5648f160-3c70-4004-88e5-dfb9249ff17a",
   "metadata": {},
   "outputs": [
    {
     "data": {
      "text/html": [
       "<div>\n",
       "<style scoped>\n",
       "    .dataframe tbody tr th:only-of-type {\n",
       "        vertical-align: middle;\n",
       "    }\n",
       "\n",
       "    .dataframe tbody tr th {\n",
       "        vertical-align: top;\n",
       "    }\n",
       "\n",
       "    .dataframe thead th {\n",
       "        text-align: right;\n",
       "    }\n",
       "</style>\n",
       "<table border=\"1\" class=\"dataframe\">\n",
       "  <thead>\n",
       "    <tr style=\"text-align: right;\">\n",
       "      <th></th>\n",
       "      <th>0</th>\n",
       "    </tr>\n",
       "  </thead>\n",
       "  <tbody>\n",
       "    <tr>\n",
       "      <th>Instrument</th>\n",
       "      <td>LSEG.L</td>\n",
       "    </tr>\n",
       "    <tr>\n",
       "      <th>Dividend yield</th>\n",
       "      <td>1.250877</td>\n",
       "    </tr>\n",
       "    <tr>\n",
       "      <th>Price Close</th>\n",
       "      <td>7136</td>\n",
       "    </tr>\n",
       "    <tr>\n",
       "      <th>Earnings Per Share - Actual</th>\n",
       "      <td>3.161</td>\n",
       "    </tr>\n",
       "    <tr>\n",
       "      <th>Price / EPS (Mean Estimate)</th>\n",
       "      <td>24.531008</td>\n",
       "    </tr>\n",
       "    <tr>\n",
       "      <th>Outstanding Shares</th>\n",
       "      <td>552.44859</td>\n",
       "    </tr>\n",
       "    <tr>\n",
       "      <th>Company Market Cap</th>\n",
       "      <td>46715052770.400002</td>\n",
       "    </tr>\n",
       "    <tr>\n",
       "      <th>Currency</th>\n",
       "      <td>GBP</td>\n",
       "    </tr>\n",
       "    <tr>\n",
       "      <th>PE FY0</th>\n",
       "      <td>22.575134</td>\n",
       "    </tr>\n",
       "  </tbody>\n",
       "</table>\n",
       "</div>"
      ],
      "text/plain": [
       "                                              0\n",
       "Instrument                               LSEG.L\n",
       "Dividend yield                         1.250877\n",
       "Price Close                                7136\n",
       "Earnings Per Share - Actual               3.161\n",
       "Price / EPS (Mean Estimate)           24.531008\n",
       "Outstanding Shares                    552.44859\n",
       "Company Market Cap           46715052770.400002\n",
       "Currency                                    GBP\n",
       "PE FY0                                22.575134"
      ]
     },
     "execution_count": 22,
     "metadata": {},
     "output_type": "execute_result"
    }
   ],
   "source": [
    "df2,err = ek.get_data(ric.value,[\"TR.DividendYield\",\"TR.PriceClose(sdate=FY0)\",\"TR.EPSActvalue(Period=FY0)\",\n",
    "                                \"TR.PtoEPSMeanEst(Period=FY1)\",\"TR.SharesOutstanding(Scale=6)\",\"TR.CompanyMarketCap\",\n",
    "                                \"TR.CompanyMarketCap().currency\"])\n",
    "if df2['Currency'][0] == df1['CF_CURR'][0]:\n",
    "    df2['PE FY0'] = df2['Price Close']/df2['Earnings Per Share - Actual']\n",
    "else: \n",
    "    df2['PE FY0'] = (df2['Price Close']/100)/df2['Earnings Per Share - Actual']\n",
    "    \n",
    "df2.transpose()"
   ]
  },
  {
   "cell_type": "code",
   "execution_count": 23,
   "id": "fac5542d-fed2-43c4-8524-52ebbfdd545d",
   "metadata": {},
   "outputs": [
    {
     "data": {
      "text/html": [
       "<div>\n",
       "<style scoped>\n",
       "    .dataframe tbody tr th:only-of-type {\n",
       "        vertical-align: middle;\n",
       "    }\n",
       "\n",
       "    .dataframe tbody tr th {\n",
       "        vertical-align: top;\n",
       "    }\n",
       "\n",
       "    .dataframe thead th {\n",
       "        text-align: right;\n",
       "    }\n",
       "</style>\n",
       "<table border=\"1\" class=\"dataframe\">\n",
       "  <thead>\n",
       "    <tr style=\"text-align: right;\">\n",
       "      <th></th>\n",
       "      <th>0</th>\n",
       "    </tr>\n",
       "  </thead>\n",
       "  <tbody>\n",
       "    <tr>\n",
       "      <th>EPS-FY1/FY0</th>\n",
       "      <td>8.596137</td>\n",
       "    </tr>\n",
       "    <tr>\n",
       "      <th>EPS-FY2/FY1</th>\n",
       "      <td>12.315179</td>\n",
       "    </tr>\n",
       "    <tr>\n",
       "      <th>EPS-FY3/FY2</th>\n",
       "      <td>12.525625</td>\n",
       "    </tr>\n",
       "    <tr>\n",
       "      <th>SALES-FY1/FY0</th>\n",
       "      <td>7.977952</td>\n",
       "    </tr>\n",
       "    <tr>\n",
       "      <th>SALES-FY2/FY1</th>\n",
       "      <td>6.172693</td>\n",
       "    </tr>\n",
       "    <tr>\n",
       "      <th>SALES-FY3/FY2</th>\n",
       "      <td>6.364642</td>\n",
       "    </tr>\n",
       "  </tbody>\n",
       "</table>\n",
       "</div>"
      ],
      "text/plain": [
       "                       0\n",
       "EPS-FY1/FY0     8.596137\n",
       "EPS-FY2/FY1    12.315179\n",
       "EPS-FY3/FY2    12.525625\n",
       "SALES-FY1/FY0   7.977952\n",
       "SALES-FY2/FY1   6.172693\n",
       "SALES-FY3/FY2   6.364642"
      ]
     },
     "execution_count": 23,
     "metadata": {},
     "output_type": "execute_result"
    }
   ],
   "source": [
    "df3,err = ek.get_data(ric.value,['TR.EPSActValue(period=FY0)','TR.EPSMeanEstimate(period=FY1)',\n",
    "                                 'TR.EPSMeanEstimate(period=FY2)','TR.EPSMeanEstimate(period=FY3)',\n",
    "                                 'TR.RevenueActValue(Period=FY0)','TR.RevenueMeanEstimate(Period=FY1)',\n",
    "                                 'TR.RevenueMeanEstimate(Period=FY2)','TR.RevenueMeanEstimate(Period=FY3)',\n",
    "                                ])\n",
    "df3.columns =['RIC','EPS-FY0','EPS-FY1','EPS-FY2','EPS-FY3','SALES-FY0','SALES-FY1','SALES-FY2','SALES-FY3']\n",
    "df3['EPS-FY1/FY0'] = (df3['EPS-FY1']/df3['EPS-FY0']-1)*100\n",
    "df3['EPS-FY2/FY1'] = (df3['EPS-FY2']/df3['EPS-FY1']-1)*100\n",
    "df3['EPS-FY3/FY2'] = (df3['EPS-FY3']/df3['EPS-FY2']-1)*100\n",
    "df3['SALES-FY1/FY0'] = (df3['SALES-FY1']/df3['SALES-FY0']-1)*100\n",
    "df3['SALES-FY2/FY1'] = (df3['SALES-FY2']/df3['SALES-FY1']-1)*100\n",
    "df3['SALES-FY3/FY2'] = (df3['SALES-FY3']/df3['SALES-FY2']-1)*100\n",
    "\n",
    "df3.iloc[:,9:].transpose()"
   ]
  },
  {
   "cell_type": "code",
   "execution_count": 24,
   "id": "741dacc8-af6c-41e8-8d96-7445a147af0a",
   "metadata": {},
   "outputs": [
    {
     "data": {
      "text/plain": [
       "<AxesSubplot:>"
      ]
     },
     "execution_count": 24,
     "metadata": {},
     "output_type": "execute_result"
    },
    {
     "data": {
      "image/png": "[encoded data removed]",
      "text/plain": [
       "<Figure size 800x550 with 1 Axes>"
      ]
     },
     "metadata": {},
     "output_type": "display_data"
    }
   ],
   "source": [
    "df3.iloc[:,9:12].plot(kind='bar')"
   ]
  },
  {
   "cell_type": "code",
   "execution_count": 25,
   "id": "81c140bb-6d2b-473f-a9e2-fea0ae65ce2a",
   "metadata": {},
   "outputs": [
    {
     "data": {
      "text/plain": [
       "<AxesSubplot:>"
      ]
     },
     "execution_count": 25,
     "metadata": {},
     "output_type": "execute_result"
    },
    {
     "data": {
      "image/png": "[encoded data removed]",
      "text/plain": [
       "<Figure size 800x550 with 1 Axes>"
      ]
     },
     "metadata": {},
     "output_type": "display_data"
    }
   ],
   "source": [
    "df3.iloc[:,12:16].plot(kind='bar')"
   ]
  },
  {
   "cell_type": "code",
   "execution_count": 26,
   "id": "03972c48-a3b2-4f04-851e-d510d38bb8cd",
   "metadata": {},
   "outputs": [
    {
     "data": {
      "text/html": [
       "<div>\n",
       "<style scoped>\n",
       "    .dataframe tbody tr th:only-of-type {\n",
       "        vertical-align: middle;\n",
       "    }\n",
       "\n",
       "    .dataframe tbody tr th {\n",
       "        vertical-align: top;\n",
       "    }\n",
       "\n",
       "    .dataframe thead th {\n",
       "        text-align: right;\n",
       "    }\n",
       "</style>\n",
       "<table border=\"1\" class=\"dataframe\">\n",
       "  <thead>\n",
       "    <tr style=\"text-align: right;\">\n",
       "      <th></th>\n",
       "      <th>Instrument</th>\n",
       "      <th>Financial Period Relative</th>\n",
       "      <th>Price / EPS (Mean Estimate)</th>\n",
       "      <th>Price / Revenue (Mean Estimate)</th>\n",
       "    </tr>\n",
       "  </thead>\n",
       "  <tbody>\n",
       "    <tr>\n",
       "      <th>0</th>\n",
       "      <td>LSEG.L</td>\n",
       "      <td>FY1</td>\n",
       "      <td>20.10339</td>\n",
       "      <td>4.932961</td>\n",
       "    </tr>\n",
       "    <tr>\n",
       "      <th>1</th>\n",
       "      <td>LSEG.L</td>\n",
       "      <td>FY2</td>\n",
       "      <td>21.841222</td>\n",
       "      <td>5.485763</td>\n",
       "    </tr>\n",
       "    <tr>\n",
       "      <th>2</th>\n",
       "      <td>LSEG.L</td>\n",
       "      <td>FY3</td>\n",
       "      <td>19.409998</td>\n",
       "      <td>5.157506</td>\n",
       "    </tr>\n",
       "  </tbody>\n",
       "</table>\n",
       "</div>"
      ],
      "text/plain": [
       "  Instrument Financial Period Relative  Price / EPS (Mean Estimate)  \\\n",
       "0     LSEG.L                       FY1                     20.10339   \n",
       "1     LSEG.L                       FY2                    21.841222   \n",
       "2     LSEG.L                       FY3                    19.409998   \n",
       "\n",
       "   Price / Revenue (Mean Estimate)  \n",
       "0                         4.932961  \n",
       "1                         5.485763  \n",
       "2                         5.157506  "
      ]
     },
     "execution_count": 26,
     "metadata": {},
     "output_type": "execute_result"
    }
   ],
   "source": [
    "df5,err = ek.get_data(ric.value,['TR.PtoEPSMeanEst(SDate=0,EDate=2,Period=FY1,Frq=FY).rfperiod','TR.PtoEPSMeanEst(SDate=0,EDate=2,Period=FY1,Frq=FY)','TR.PtoREVMeanEst(SDate=0,EDate=2,Period=FY1,Frq=FY)'])\n",
    "df5"
   ]
  },
  {
   "cell_type": "code",
   "execution_count": 27,
   "id": "043c524f-6f09-46c1-a826-c16a1cb0eb1c",
   "metadata": {},
   "outputs": [
    {
     "data": {
      "application/vnd.jupyter.widget-view+json": {
       "model_id": "ed2cf6292f4a41ec8bdb3331198b70ac",
       "version_major": 2,
       "version_minor": 0
      },
      "text/plain": [
       "Box(children=(Dropdown(description='Metric:', options=('BVPS', 'CFPS', 'DPS', 'EPS', 'EBIT', 'EBITDA', 'NETDEB…"
      ]
     },
     "metadata": {},
     "output_type": "display_data"
    }
   ],
   "source": [
    "mSel = widgets.Dropdown(\n",
    "    options=['BVPS', 'CFPS', 'DPS','EPS','EBIT','EBITDA','NETDEBT','NETPROFIT','PRETAXPROFIT','ROA','ROE','REVENUE'], #just a sellection you can add any more you want here\n",
    "    value='BVPS',\n",
    "    description='Metric:',\n",
    "    disabled=False,\n",
    ")\n",
    "\n",
    "items2 = [mSel]\n",
    "box2 = Box(children=items2)\n",
    "box2"
   ]
  },
  {
   "cell_type": "code",
   "execution_count": 28,
   "id": "6732e444-8610-405d-88f3-c8f20b307cea",
   "metadata": {},
   "outputs": [
    {
     "data": {
      "text/html": [
       "<div>\n",
       "<style scoped>\n",
       "    .dataframe tbody tr th:only-of-type {\n",
       "        vertical-align: middle;\n",
       "    }\n",
       "\n",
       "    .dataframe tbody tr th {\n",
       "        vertical-align: top;\n",
       "    }\n",
       "\n",
       "    .dataframe thead th {\n",
       "        text-align: right;\n",
       "    }\n",
       "</style>\n",
       "<table border=\"1\" class=\"dataframe\">\n",
       "  <thead>\n",
       "    <tr style=\"text-align: right;\">\n",
       "      <th></th>\n",
       "      <th>Instrument</th>\n",
       "      <th>Financial Period Absolute</th>\n",
       "      <th>Book Value Per Share - Mean</th>\n",
       "      <th>Book Value Per Share - High</th>\n",
       "      <th>Book Value Per Share - Low</th>\n",
       "      <th>Book Value Per Share - Median</th>\n",
       "    </tr>\n",
       "  </thead>\n",
       "  <tbody>\n",
       "    <tr>\n",
       "      <th>0</th>\n",
       "      <td>LSEG.L</td>\n",
       "      <td>FY2023</td>\n",
       "      <td>44.994924</td>\n",
       "      <td>53.1</td>\n",
       "      <td>12.7421</td>\n",
       "      <td>47.91215</td>\n",
       "    </tr>\n",
       "    <tr>\n",
       "      <th>1</th>\n",
       "      <td>LSEG.L</td>\n",
       "      <td>FY2024</td>\n",
       "      <td>46.866299</td>\n",
       "      <td>55.2</td>\n",
       "      <td>12.948</td>\n",
       "      <td>51.51</td>\n",
       "    </tr>\n",
       "    <tr>\n",
       "      <th>2</th>\n",
       "      <td>LSEG.L</td>\n",
       "      <td>FY2025</td>\n",
       "      <td>48.943318</td>\n",
       "      <td>57.7</td>\n",
       "      <td>13.5237</td>\n",
       "      <td>52.18</td>\n",
       "    </tr>\n",
       "  </tbody>\n",
       "</table>\n",
       "</div>"
      ],
      "text/plain": [
       "  Instrument Financial Period Absolute  Book Value Per Share - Mean  \\\n",
       "0     LSEG.L                    FY2023                    44.994924   \n",
       "1     LSEG.L                    FY2024                    46.866299   \n",
       "2     LSEG.L                    FY2025                    48.943318   \n",
       "\n",
       "   Book Value Per Share - High  Book Value Per Share - Low  \\\n",
       "0                         53.1                     12.7421   \n",
       "1                         55.2                      12.948   \n",
       "2                         57.7                     13.5237   \n",
       "\n",
       "   Book Value Per Share - Median  \n",
       "0                       47.91215  \n",
       "1                          51.51  \n",
       "2                          52.18  "
      ]
     },
     "metadata": {},
     "output_type": "display_data"
    }
   ],
   "source": [
    "try:\n",
    "    df5,err = ek.get_data(ric.value,['TR.'+mSel.value+'Mean(SDate=0,EDate=2,Period=FY1,Frq=FY).fperiod','TR.'+mSel.value+'Mean(SDate=0,EDate=2,Period=FY1,Frq=FY)','TR.'+mSel.value+'High(SDate=0,EDate=2,Period=FY1,Frq=FY)','TR.'+mSel.value+'Low(SDate=0,EDate=2,Period=FY1,Frq=FY)','TR.'+mSel.value+'Median(SDate=0,EDate=2,Period=FY1,Frq=FY)'])\n",
    "    display(df5)\n",
    "except:\n",
    "    print('Metric not available for this company, please select another metric')"
   ]
  },
  {
   "cell_type": "code",
   "execution_count": 29,
   "id": "1d771e6b-cbc2-46a9-bc6a-e45dda2d78fa",
   "metadata": {},
   "outputs": [
    {
     "data": {
      "text/html": [
       "<div>\n",
       "<style scoped>\n",
       "    .dataframe tbody tr th:only-of-type {\n",
       "        vertical-align: middle;\n",
       "    }\n",
       "\n",
       "    .dataframe tbody tr th {\n",
       "        vertical-align: top;\n",
       "    }\n",
       "\n",
       "    .dataframe thead th {\n",
       "        text-align: right;\n",
       "    }\n",
       "</style>\n",
       "<table border=\"1\" class=\"dataframe\">\n",
       "  <thead>\n",
       "    <tr style=\"text-align: right;\">\n",
       "      <th></th>\n",
       "      <th>Instrument</th>\n",
       "      <th>Financial Period Absolute</th>\n",
       "      <th>Book Value Per Share - Mean</th>\n",
       "      <th>Book Value Per Share - High</th>\n",
       "      <th>Book Value Per Share - Low</th>\n",
       "      <th>Book Value Per Share - Median</th>\n",
       "    </tr>\n",
       "  </thead>\n",
       "  <tbody>\n",
       "    <tr>\n",
       "      <th>0</th>\n",
       "      <td>LSEG.L</td>\n",
       "      <td>&lt;NA&gt;</td>\n",
       "      <td>&lt;NA&gt;</td>\n",
       "      <td>&lt;NA&gt;</td>\n",
       "      <td>&lt;NA&gt;</td>\n",
       "      <td>&lt;NA&gt;</td>\n",
       "    </tr>\n",
       "  </tbody>\n",
       "</table>\n",
       "</div>"
      ],
      "text/plain": [
       "  Instrument  Financial Period Absolute  Book Value Per Share - Mean  \\\n",
       "0     LSEG.L                       <NA>                         <NA>   \n",
       "\n",
       "   Book Value Per Share - High  Book Value Per Share - Low  \\\n",
       "0                         <NA>                        <NA>   \n",
       "\n",
       "   Book Value Per Share - Median  \n",
       "0                           <NA>  "
      ]
     },
     "metadata": {},
     "output_type": "display_data"
    }
   ],
   "source": [
    "if df1['Interim Frequency'][0] == 'Quarterly':\n",
    "    try:\n",
    "        df6,err = ek.get_data(ric.value,['TR.'+mSel.value+'Mean(SDate=0,EDate=2,Period=FQ1,Frq=FQ).fperiod','TR.'+mSel.value+'Mean(SDate=0,EDate=2,Period=FQ1,Frq=FQ)','TR.'+mSel.value+'High(SDate=0,EDate=2,Period=FQ1,Frq=FQ)','TR.'+mSel.value+'Low(SDate=0,EDate=2,Period=FQ1,Frq=FQ)','TR.'+mSel.value+'Median(SDate=0,EDate=2,Period=FQ1,Frq=FQ)'])\n",
    "        display(df6)\n",
    "    except:\n",
    "        print('Metric not available for this company, please select another metric')\n",
    "else:\n",
    "    try:\n",
    "        df6,err = ek.get_data(ric.value,['TR.'+mSel.value+'Mean(SDate=0,EDate=2,Period=FI1,Frq=FI).fperiod','TR.'+mSel.value+'Mean(SDate=0,EDate=2,Period=FI1,Frq=FI)','TR.'+mSel.value+'High(SDate=0,EDate=2,Period=FI1,Frq=FI)','TR.'+mSel.value+'Low(SDate=0,EDate=2,Period=FI1,Frq=FI)','TR.'+mSel.value+'Median(SDate=0,EDate=2,Period=FI1,Frq=FI)'])\n",
    "        display(df6)\n",
    "    except:\n",
    "        print('Metric not available for this company, please select another metric')"
   ]
  },
  {
   "cell_type": "code",
   "execution_count": null,
   "id": "1f92e955-027b-4266-b184-43b7ee915bd5",
   "metadata": {},
   "outputs": [],
   "source": []
  }
 ],
 "metadata": {
  "kernelspec": {
   "display_name": "Python 3",
   "language": "python",
   "name": "python3"
  },
  "language_info": {
   "codemirror_mode": {
    "name": "ipython",
    "version": 3
   },
   "file_extension": ".py",
   "mimetype": "text/x-python",
   "name": "python",
   "nbconvert_exporter": "python",
   "pygments_lexer": "ipython3",
   "version": "3.8.15"
  },
  "widgets": {
   "application/vnd.jupyter.widget-state+json": {
    "state": {
     "015dbb752d2443b7bbb012fe7b9a9d5a": {
      "model_module": "@jupyter-widgets/base",
      "model_module_version": "1.2.0",
      "model_name": "LayoutModel",
      "state": {
       "height": "auto",
       "width": "auto"
      }
     },
     "08275e8f43844402aef064d5986d699b": {
      "model_module": "ipysheet",
      "model_module_version": "~0.5.0",
      "model_name": "SheetModel",
      "state": {
       "cells": [
        "IPY_MODEL_46b34b490e2e44739fa79015fb12bc62",
        "IPY_MODEL_ed53a954138544f48d475bff72c789f4"
       ],
       "column_headers": [
        "Item",
        "Latest"
       ],
       "columns": 2,
       "layout": "IPY_MODEL_015dbb752d2443b7bbb012fe7b9a9d5a",
       "row_headers": false,
       "rows": 15
      }
     },
     "0a728b2cf15d492fac111658d9eff91d": {
      "model_module": "@jupyter-widgets/base",
      "model_module_version": "1.2.0",
      "model_name": "LayoutModel",
      "state": {}
     },
     "10fef51921814d5495f68bef880399dc": {
      "model_module": "@jupyter-widgets/controls",
      "model_module_version": "1.5.0",
      "model_name": "TabModel",
      "state": {
       "_titles": {
        "0": "Chart",
        "1": "Table"
       },
       "children": [
        "IPY_MODEL_37c1beec6517458a9039d24ae54ebe3f",
        "IPY_MODEL_cdbbdf7311f64f9fb88f7de97d30e7ea"
       ],
       "layout": "IPY_MODEL_1a4d7803ec67461da335c65b669bdd2b"
      }
     },
     "1a4d7803ec67461da335c65b669bdd2b": {
      "model_module": "@jupyter-widgets/base",
      "model_module_version": "1.2.0",
      "model_name": "LayoutModel",
      "state": {}
     },
     "25a9ac1c19524d3b9fec71283626c598": {
      "model_module": "@jupyter-widgets/base",
      "model_module_version": "1.2.0",
      "model_name": "LayoutModel",
      "state": {
       "height": "auto",
       "width": "auto"
      }
     },
     "37c1beec6517458a9039d24ae54ebe3f": {
      "model_module": "jupyterlab-plotly",
      "model_module_version": "^5.4.0",
      "model_name": "FigureModel",
      "state": {
       "_config": {
        "plotlyServerURL": "https://plot.ly"
       },
       "_data": [
        {
         "decreasing": {
          "marker": {
           "color": "#F6465C"
          }
         },
         "increasing": {
          "marker": {
           "color": "#3AC46D"
          }
         },
         "measure": [
          "absolute",
          "relative",
          "relative",
          "absolute",
          "relative",
          "relative",
          "relative",
          "relative",
          "absolute",
          "relative",
          "relative",
          "relative",
          "absolute"
         ],
         "name": "MOODY'S/d",
         "totals": {
          "marker": {
           "color": "#6978F7"
          }
         },
         "type": "waterfall",
         "uid": "2cea3e6e-cd4e-45f5-8ee4-a8f359591417",
         "x": [
          "Revenue from Business Activities - Total",
          "Cost of Operating Revenue",
          "Selling General & Administrative Expenses - Total",
          "Operating Profit before Non-Recurring Income/Expense",
          "Financing Income/(Expense) - Net - Total",
          "Equity Earnings/(Loss) before Taxes including Non-Recurring",
          "Other Non-Operating Income/(Expense) - Total",
          "Non-Recurring Income/(Expense) - Total",
          "Income before Taxes",
          "Income Taxes",
          "Extraordinary Activities - after Tax - Gain/(Loss)",
          "Minority Interest",
          "Income Available to Common Shares"
         ],
         "y": [
          5468000000,
          -1944000000,
          -1527000000,
          1997000000,
          -228000000,
          17000000,
          18000000,
          -44000000,
          1760000000,
          -338000000,
          -48000000,
          0,
          1374000000
         ]
        }
       ],
       "_js2py_restyle": {},
       "_js2py_update": {},
       "_last_layout_edit_id": 6,
       "_last_trace_edit_id": 5,
       "_layout": {
        "autosize": true,
        "colorway": [
         "#6978F7",
         "#A325E9",
         "#96E05D",
         "#4A7FB9",
         "#E75A2D",
         "#FBE55A",
         "#8C8C8D",
         "#5A54F6"
        ],
        "legend": {
         "font": {
          "color": "#D6D6D5"
         },
         "orientation": "h",
         "x": 0.1,
         "xanchor": "center",
         "y": 1.05,
         "yanchor": "top"
        },
        "margin": {
         "b": 5,
         "l": 5,
         "r": 5,
         "t": 5
        },
        "paper_bgcolor": "#1A1A1D",
        "plot_bgcolor": "#1A1A1D",
        "template": {
         "data": {
          "bar": [
           {
            "error_x": {
             "color": "#2a3f5f"
            },
            "error_y": {
             "color": "#2a3f5f"
            },
            "marker": {
             "line": {
              "color": "#E5ECF6",
              "width": 0.5
             },
             "pattern": {
              "fillmode": "overlay",
              "size": 10,
              "solidity": 0.2
             }
            },
            "type": "bar"
           }
          ],
          "barpolar": [
           {
            "marker": {
             "line": {
              "color": "#E5ECF6",
              "width": 0.5
             },
             "pattern": {
              "fillmode": "overlay",
              "size": 10,
              "solidity": 0.2
             }
            },
            "type": "barpolar"
           }
          ],
          "carpet": [
           {
            "aaxis": {
             "endlinecolor": "#2a3f5f",
             "gridcolor": "white",
             "linecolor": "white",
             "minorgridcolor": "white",
             "startlinecolor": "#2a3f5f"
            },
            "baxis": {
             "endlinecolor": "#2a3f5f",
             "gridcolor": "white",
             "linecolor": "white",
             "minorgridcolor": "white",
             "startlinecolor": "#2a3f5f"
            },
            "type": "carpet"
           }
          ],
          "choropleth": [
           {
            "colorbar": {
             "outlinewidth": 0,
             "ticks": ""
            },
            "type": "choropleth"
           }
          ],
          "contour": [
           {
            "colorbar": {
             "outlinewidth": 0,
             "ticks": ""
            },
            "colorscale": [
             [
              0,
              "#0d0887"
             ],
             [
              0.1111111111111111,
              "#46039f"
             ],
             [
              0.2222222222222222,
              "#7201a8"
             ],
             [
              0.3333333333333333,
              "#9c179e"
             ],
             [
              0.4444444444444444,
              "#bd3786"
             ],
             [
              0.5555555555555556,
              "#d8576b"
             ],
             [
              0.6666666666666666,
              "#ed7953"
             ],
             [
              0.7777777777777778,
              "#fb9f3a"
             ],
             [
              0.8888888888888888,
              "#fdca26"
             ],
             [
              1,
              "#f0f921"
             ]
            ],
            "type": "contour"
           }
          ],
          "contourcarpet": [
           {
            "colorbar": {
             "outlinewidth": 0,
             "ticks": ""
            },
            "type": "contourcarpet"
           }
          ],
          "heatmap": [
           {
            "colorbar": {
             "outlinewidth": 0,
             "ticks": ""
            },
            "colorscale": [
             [
              0,
              "#0d0887"
             ],
             [
              0.1111111111111111,
              "#46039f"
             ],
             [
              0.2222222222222222,
              "#7201a8"
             ],
             [
              0.3333333333333333,
              "#9c179e"
             ],
             [
              0.4444444444444444,
              "#bd3786"
             ],
             [
              0.5555555555555556,
              "#d8576b"
             ],
             [
              0.6666666666666666,
              "#ed7953"
             ],
             [
              0.7777777777777778,
              "#fb9f3a"
             ],
             [
              0.8888888888888888,
              "#fdca26"
             ],
             [
              1,
              "#f0f921"
             ]
            ],
            "type": "heatmap"
           }
          ],
          "heatmapgl": [
           {
            "colorbar": {
             "outlinewidth": 0,
             "ticks": ""
            },
            "colorscale": [
             [
              0,
              "#0d0887"
             ],
             [
              0.1111111111111111,
              "#46039f"
             ],
             [
              0.2222222222222222,
              "#7201a8"
             ],
             [
              0.3333333333333333,
              "#9c179e"
             ],
             [
              0.4444444444444444,
              "#bd3786"
             ],
             [
              0.5555555555555556,
              "#d8576b"
             ],
             [
              0.6666666666666666,
              "#ed7953"
             ],
             [
              0.7777777777777778,
              "#fb9f3a"
             ],
             [
              0.8888888888888888,
              "#fdca26"
             ],
             [
              1,
              "#f0f921"
             ]
            ],
            "type": "heatmapgl"
           }
          ],
          "histogram": [
           {
            "marker": {
             "pattern": {
              "fillmode": "overlay",
              "size": 10,
              "solidity": 0.2
             }
            },
            "type": "histogram"
           }
          ],
          "histogram2d": [
           {
            "colorbar": {
             "outlinewidth": 0,
             "ticks": ""
            },
            "colorscale": [
             [
              0,
              "#0d0887"
             ],
             [
              0.1111111111111111,
              "#46039f"
             ],
             [
              0.2222222222222222,
              "#7201a8"
             ],
             [
              0.3333333333333333,
              "#9c179e"
             ],
             [
              0.4444444444444444,
              "#bd3786"
             ],
             [
              0.5555555555555556,
              "#d8576b"
             ],
             [
              0.6666666666666666,
              "#ed7953"
             ],
             [
              0.7777777777777778,
              "#fb9f3a"
             ],
             [
              0.8888888888888888,
              "#fdca26"
             ],
             [
              1,
              "#f0f921"
             ]
            ],
            "type": "histogram2d"
           }
          ],
          "histogram2dcontour": [
           {
            "colorbar": {
             "outlinewidth": 0,
             "ticks": ""
            },
            "colorscale": [
             [
              0,
              "#0d0887"
             ],
             [
              0.1111111111111111,
              "#46039f"
             ],
             [
              0.2222222222222222,
              "#7201a8"
             ],
             [
              0.3333333333333333,
              "#9c179e"
             ],
             [
              0.4444444444444444,
              "#bd3786"
             ],
             [
              0.5555555555555556,
              "#d8576b"
             ],
             [
              0.6666666666666666,
              "#ed7953"
             ],
             [
              0.7777777777777778,
              "#fb9f3a"
             ],
             [
              0.8888888888888888,
              "#fdca26"
             ],
             [
              1,
              "#f0f921"
             ]
            ],
            "type": "histogram2dcontour"
           }
          ],
          "mesh3d": [
           {
            "colorbar": {
             "outlinewidth": 0,
             "ticks": ""
            },
            "type": "mesh3d"
           }
          ],
          "parcoords": [
           {
            "line": {
             "colorbar": {
              "outlinewidth": 0,
              "ticks": ""
             }
            },
            "type": "parcoords"
           }
          ],
          "pie": [
           {
            "automargin": true,
            "type": "pie"
           }
          ],
          "scatter": [
           {
            "marker": {
             "colorbar": {
              "outlinewidth": 0,
              "ticks": ""
             }
            },
            "type": "scatter"
           }
          ],
          "scatter3d": [
           {
            "line": {
             "colorbar": {
              "outlinewidth": 0,
              "ticks": ""
             }
            },
            "marker": {
             "colorbar": {
              "outlinewidth": 0,
              "ticks": ""
             }
            },
            "type": "scatter3d"
           }
          ],
          "scattercarpet": [
           {
            "marker": {
             "colorbar": {
              "outlinewidth": 0,
              "ticks": ""
             }
            },
            "type": "scattercarpet"
           }
          ],
          "scattergeo": [
           {
            "marker": {
             "colorbar": {
              "outlinewidth": 0,
              "ticks": ""
             }
            },
            "type": "scattergeo"
           }
          ],
          "scattergl": [
           {
            "marker": {
             "colorbar": {
              "outlinewidth": 0,
              "ticks": ""
             }
            },
            "type": "scattergl"
           }
          ],
          "scattermapbox": [
           {
            "marker": {
             "colorbar": {
              "outlinewidth": 0,
              "ticks": ""
             }
            },
            "type": "scattermapbox"
           }
          ],
          "scatterpolar": [
           {
            "marker": {
             "colorbar": {
              "outlinewidth": 0,
              "ticks": ""
             }
            },
            "type": "scatterpolar"
           }
          ],
          "scatterpolargl": [
           {
            "marker": {
             "colorbar": {
              "outlinewidth": 0,
              "ticks": ""
             }
            },
            "type": "scatterpolargl"
           }
          ],
          "scatterternary": [
           {
            "marker": {
             "colorbar": {
              "outlinewidth": 0,
              "ticks": ""
             }
            },
            "type": "scatterternary"
           }
          ],
          "surface": [
           {
            "colorbar": {
             "outlinewidth": 0,
             "ticks": ""
            },
            "colorscale": [
             [
              0,
              "#0d0887"
             ],
             [
              0.1111111111111111,
              "#46039f"
             ],
             [
              0.2222222222222222,
              "#7201a8"
             ],
             [
              0.3333333333333333,
              "#9c179e"
             ],
             [
              0.4444444444444444,
              "#bd3786"
             ],
             [
              0.5555555555555556,
              "#d8576b"
             ],
             [
              0.6666666666666666,
              "#ed7953"
             ],
             [
              0.7777777777777778,
              "#fb9f3a"
             ],
             [
              0.8888888888888888,
              "#fdca26"
             ],
             [
              1,
              "#f0f921"
             ]
            ],
            "type": "surface"
           }
          ],
          "table": [
           {
            "cells": {
             "fill": {
              "color": "#EBF0F8"
             },
             "line": {
              "color": "white"
             }
            },
            "header": {
             "fill": {
              "color": "#C8D4E3"
             },
             "line": {
              "color": "white"
             }
            },
            "type": "table"
           }
          ]
         },
         "layout": {
          "annotationdefaults": {
           "arrowcolor": "#2a3f5f",
           "arrowhead": 0,
           "arrowwidth": 1
          },
          "autotypenumbers": "strict",
          "coloraxis": {
           "colorbar": {
            "outlinewidth": 0,
            "ticks": ""
           }
          },
          "colorscale": {
           "diverging": [
            [
             0,
             "#8e0152"
            ],
            [
             0.1,
             "#c51b7d"
            ],
            [
             0.2,
             "#de77ae"
            ],
            [
             0.3,
             "#f1b6da"
            ],
            [
             0.4,
             "#fde0ef"
            ],
            [
             0.5,
             "#f7f7f7"
            ],
            [
             0.6,
             "#e6f5d0"
            ],
            [
             0.7,
             "#b8e186"
            ],
            [
             0.8,
             "#7fbc41"
            ],
            [
             0.9,
             "#4d9221"
            ],
            [
             1,
             "#276419"
            ]
           ],
           "sequential": [
            [
             0,
             "#0d0887"
            ],
            [
             0.1111111111111111,
             "#46039f"
            ],
            [
             0.2222222222222222,
             "#7201a8"
            ],
            [
             0.3333333333333333,
             "#9c179e"
            ],
            [
             0.4444444444444444,
             "#bd3786"
            ],
            [
             0.5555555555555556,
             "#d8576b"
            ],
            [
             0.6666666666666666,
             "#ed7953"
            ],
            [
             0.7777777777777778,
             "#fb9f3a"
            ],
            [
             0.8888888888888888,
             "#fdca26"
            ],
            [
             1,
             "#f0f921"
            ]
           ],
           "sequentialminus": [
            [
             0,
             "#0d0887"
            ],
            [
             0.1111111111111111,
             "#46039f"
            ],
            [
             0.2222222222222222,
             "#7201a8"
            ],
            [
             0.3333333333333333,
             "#9c179e"
            ],
            [
             0.4444444444444444,
             "#bd3786"
            ],
            [
             0.5555555555555556,
             "#d8576b"
            ],
            [
             0.6666666666666666,
             "#ed7953"
            ],
            [
             0.7777777777777778,
             "#fb9f3a"
            ],
            [
             0.8888888888888888,
             "#fdca26"
            ],
            [
             1,
             "#f0f921"
            ]
           ]
          },
          "colorway": [
           "#636efa",
           "#EF553B",
           "#00cc96",
           "#ab63fa",
           "#FFA15A",
           "#19d3f3",
           "#FF6692",
           "#B6E880",
           "#FF97FF",
           "#FECB52"
          ],
          "font": {
           "color": "#2a3f5f"
          },
          "geo": {
           "bgcolor": "white",
           "lakecolor": "white",
           "landcolor": "#E5ECF6",
           "showlakes": true,
           "showland": true,
           "subunitcolor": "white"
          },
          "hoverlabel": {
           "align": "left"
          },
          "hovermode": "closest",
          "mapbox": {
           "style": "light"
          },
          "paper_bgcolor": "white",
          "plot_bgcolor": "#E5ECF6",
          "polar": {
           "angularaxis": {
            "gridcolor": "white",
            "linecolor": "white",
            "ticks": ""
           },
           "bgcolor": "#E5ECF6",
           "radialaxis": {
            "gridcolor": "white",
            "linecolor": "white",
            "ticks": ""
           }
          },
          "scene": {
           "xaxis": {
            "backgroundcolor": "#E5ECF6",
            "gridcolor": "white",
            "gridwidth": 2,
            "linecolor": "white",
            "showbackground": true,
            "ticks": "",
            "zerolinecolor": "white"
           },
           "yaxis": {
            "backgroundcolor": "#E5ECF6",
            "gridcolor": "white",
            "gridwidth": 2,
            "linecolor": "white",
            "showbackground": true,
            "ticks": "",
            "zerolinecolor": "white"
           },
           "zaxis": {
            "backgroundcolor": "#E5ECF6",
            "gridcolor": "white",
            "gridwidth": 2,
            "linecolor": "white",
            "showbackground": true,
            "ticks": "",
            "zerolinecolor": "white"
           }
          },
          "shapedefaults": {
           "line": {
            "color": "#2a3f5f"
           }
          },
          "ternary": {
           "aaxis": {
            "gridcolor": "white",
            "linecolor": "white",
            "ticks": ""
           },
           "baxis": {
            "gridcolor": "white",
            "linecolor": "white",
            "ticks": ""
           },
           "bgcolor": "#E5ECF6",
           "caxis": {
            "gridcolor": "white",
            "linecolor": "white",
            "ticks": ""
           }
          },
          "title": {
           "x": 0.05
          },
          "xaxis": {
           "automargin": true,
           "gridcolor": "white",
           "linecolor": "white",
           "ticks": "",
           "title": {
            "standoff": 15
           },
           "zerolinecolor": "white",
           "zerolinewidth": 2
          },
          "yaxis": {
           "automargin": true,
           "gridcolor": "white",
           "linecolor": "white",
           "ticks": "",
           "title": {
            "standoff": 15
           },
           "zerolinecolor": "white",
           "zerolinewidth": 2
          }
         }
        },
        "title": {
         "font": {
          "color": "#D6D6D5"
         },
         "text": "MOODY'S/d",
         "x": 0.5,
         "xanchor": "center",
         "yanchor": "top"
        },
        "xaxis": {
         "color": "#D6D6D5",
         "gridcolor": "black",
         "gridwidth": 1,
         "linecolor": "#D6D6D5",
         "ticks": "outside",
         "zerolinecolor": "black",
         "zerolinewidth": 1
        },
        "yaxis": {
         "color": "#D6D6D5",
         "gridcolor": "black",
         "gridwidth": 1,
         "linecolor": "#D6D6D5",
         "side": "right",
         "ticks": "outside",
         "zerolinecolor": "black",
         "zerolinewidth": 1
        }
       },
       "_py2js_animate": {},
       "_py2js_moveTraces": {},
       "_py2js_removeLayoutProps": {},
       "_py2js_removeTraceProps": {},
       "_py2js_restyle": {},
       "_view_count": 1
      }
     },
     "46b34b490e2e44739fa79015fb12bc62": {
      "model_module": "ipysheet",
      "model_module_version": "~0.5.0",
      "model_name": "CellRangeModel",
      "state": {
       "_view_module": null,
       "_view_module_version": "",
       "column_end": 0,
       "column_start": 0,
       "numeric_format": null,
       "row_end": 14,
       "row_start": 0,
       "squeeze_row": false,
       "type": "text",
       "value": [
        "Revenue from Business Activities - Total",
        "Cost of Operating Revenue",
        "Selling General & Administrative Expenses - Total",
        "Other Operating Expense/(Income) - Net",
        "Operating Profit before Non-Recurring Income/Expense",
        "Financing Income/(Expense) - Net - Total",
        "Sale of Tangible & Intangible Fixed Assets - Gain/(Loss)",
        "Equity Earnings/(Loss) before Taxes including Non-Recurring",
        "Non-Recurring Income/(Expense) - Total",
        "Income before Taxes",
        "Income Taxes",
        "Equity in Earnings/(Loss) of Affiliates (after Taxes)",
        "Extraordinary Activities - after Tax - Gain/(Loss)",
        "Minority Interest",
        "Income Available to Common Shares"
       ]
      }
     },
     "738024f24c75458d87956f42cec769a7": {
      "model_module": "@jupyter-widgets/controls",
      "model_module_version": "1.5.0",
      "model_name": "VBoxModel",
      "state": {
       "children": [
        "IPY_MODEL_786a43faafa34608bee6644881b9b391",
        "IPY_MODEL_10fef51921814d5495f68bef880399dc"
       ],
       "layout": "IPY_MODEL_0a728b2cf15d492fac111658d9eff91d"
      }
     },
     "786a43faafa34608bee6644881b9b391": {
      "model_module": "@jupyter-widgets/controls",
      "model_module_version": "1.5.0",
      "model_name": "TextModel",
      "state": {
       "continuous_update": false,
       "description": "RIC",
       "layout": "IPY_MODEL_a478ef8ffeae4c759efae004a0d97bae",
       "style": "IPY_MODEL_8b19bd546c9345f3b9a454ffe63b2eeb"
      }
     },
     "8b19bd546c9345f3b9a454ffe63b2eeb": {
      "model_module": "@jupyter-widgets/controls",
      "model_module_version": "1.5.0",
      "model_name": "DescriptionStyleModel",
      "state": {
       "description_width": "30px"
      }
     },
     "a478ef8ffeae4c759efae004a0d97bae": {
      "model_module": "@jupyter-widgets/base",
      "model_module_version": "1.2.0",
      "model_name": "LayoutModel",
      "state": {}
     },
     "ca4f28f737fa42bc9f458240f5fc31f8": {
      "model_module": "ipysheet",
      "model_module_version": "~0.5.0",
      "model_name": "CellRangeModel",
      "state": {
       "_view_module": null,
       "_view_module_version": "",
       "column_end": 0,
       "column_start": 0,
       "numeric_format": null,
       "row_end": 12,
       "row_start": 0,
       "squeeze_row": false,
       "type": "text",
       "value": [
        "Revenue from Business Activities - Total",
        "Cost of Operating Revenue",
        "Selling General & Administrative Expenses - Total",
        "Operating Profit before Non-Recurring Income/Expense",
        "Financing Income/(Expense) - Net - Total",
        "Equity Earnings/(Loss) before Taxes including Non-Recurring",
        "Other Non-Operating Income/(Expense) - Total",
        "Non-Recurring Income/(Expense) - Total",
        "Income before Taxes",
        "Income Taxes",
        "Extraordinary Activities - after Tax - Gain/(Loss)",
        "Minority Interest",
        "Income Available to Common Shares"
       ]
      }
     },
     "cdbbdf7311f64f9fb88f7de97d30e7ea": {
      "model_module": "ipysheet",
      "model_module_version": "~0.5.0",
      "model_name": "SheetModel",
      "state": {
       "cells": [
        "IPY_MODEL_ca4f28f737fa42bc9f458240f5fc31f8",
        "IPY_MODEL_d68f23aafe7547c7b634ff2a8ac89504"
       ],
       "column_headers": [
        "Item",
        "Latest"
       ],
       "columns": 2,
       "layout": "IPY_MODEL_25a9ac1c19524d3b9fec71283626c598",
       "row_headers": false,
       "rows": 13
      }
     },
     "d68f23aafe7547c7b634ff2a8ac89504": {
      "model_module": "ipysheet",
      "model_module_version": "~0.5.0",
      "model_name": "CellRangeModel",
      "state": {
       "_view_module": null,
       "_view_module_version": "",
       "numeric_format": "0[.]0",
       "row_end": 12,
       "row_start": 0,
       "squeeze_row": false,
       "type": "numeric",
       "value": [
        5468000000,
        1944000000,
        1527000000,
        1997000000,
        -228000000,
        17000000,
        18000000,
        -44000000,
        1760000000,
        338000000,
        -48000000,
        0,
        1374000000
       ]
      }
     },
     "ed53a954138544f48d475bff72c789f4": {
      "model_module": "ipysheet",
      "model_module_version": "~0.5.0",
      "model_name": "CellRangeModel",
      "state": {
       "_view_module": null,
       "_view_module_version": "",
       "numeric_format": "0[.]0",
       "row_end": 14,
       "row_start": 0,
       "squeeze_row": false,
       "type": "numeric",
       "value": [
        6679000000,
        1870000000,
        2896000000,
        243000000,
        1670000000,
        -161000000,
        133000000,
        12000000,
        -412000000,
        1242000000,
        262000000,
        -1000000,
        512000000,
        189000000,
        1302000000
       ]
      }
     }
    },
    "version_major": 2,
    "version_minor": 0
   }
  }
 },
 "nbformat": 4,
 "nbformat_minor": 5
}
